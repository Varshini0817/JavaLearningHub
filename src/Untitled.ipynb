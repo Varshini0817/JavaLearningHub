{
 "cells": [
  {
   "cell_type": "code",
   "execution_count": 16,
   "id": "12b92f6d",
   "metadata": {},
   "outputs": [],
   "source": [
    "int age = 17;\n",
    "if (age > 18)\n",
    "    if (age < 25)\n",
    "        System.out.println(\"Young Adult\");\n",
    "    else\n",
    "        System.out.println(\"Adult\");"
   ]
  },
  {
   "cell_type": "code",
   "execution_count": 7,
   "id": "86d0101d",
   "metadata": {},
   "outputs": [],
   "source": [
    "int age = 17;\n",
    "if (age > 18)\n",
    "    if (age < 25)\n",
    "        System.out.println(\"Young Adult\");\n",
    "    else\n",
    "        System.out.println(\"Adult\");"
   ]
  },
  {
   "cell_type": "code",
   "execution_count": 24,
   "id": "eb0363d8",
   "metadata": {},
   "outputs": [
    {
     "name": "stdout",
     "output_type": "stream",
     "text": [
      "Adult\r\n"
     ]
    }
   ],
   "source": [
    "int age = 15;\n",
    "if (age > 18)\n",
    "    {\n",
    "    if (age < 25)\n",
    "        System.out.println(\"Young Adult\");\n",
    "    }\n",
    "    else\n",
    "        System.out.println(\"Adult\");\n"
   ]
  },
  {
   "cell_type": "code",
   "execution_count": 35,
   "id": "0f73d57d",
   "metadata": {},
   "outputs": [
    {
     "ename": "EvaluationInterruptedException",
     "evalue": "Evaluator was interrupted while executing: 'while (i <= 5);'",
     "output_type": "error",
     "traceback": [
      "\u001b[1m\u001b[30m|   \u001b[1m\u001b[30mwhile (i <= 5);\u001b[0m",
      "\u001b[1m\u001b[31mEvaluation interrupted.\u001b[0m"
     ]
    }
   ],
   "source": [
    "int i = 1;\n",
    "while (i <= 5);\n",
    "{\n",
    "    System.out.println(i);\n",
    "    i++;\n",
    "}"
   ]
  },
  {
   "cell_type": "code",
   "execution_count": 61,
   "id": "6e69b25a",
   "metadata": {},
   "outputs": [
    {
     "name": "stdout",
     "output_type": "stream",
     "text": [
      "29 is prime\r\n"
     ]
    }
   ],
   "source": [
    "int n=29;\n",
    "if(n%2==0){\n",
    "System.out.println(\"Not prime\");\n",
    "}\n",
    "else{\n",
    "for(int i = 2; i <= Math.sqrt(n); i++) {\n",
    "    if (n % i == 0) {\n",
    "        System.out.println(n + \" is not a prime number\");\n",
    "        break;\n",
    "    }\n",
    " }\n",
    " System.out.println(n+\" is prime\");\n",
    "}"
   ]
  },
  {
   "cell_type": "code",
   "execution_count": 73,
   "id": "de5533fb",
   "metadata": {},
   "outputs": [
    {
     "name": "stdout",
     "output_type": "stream",
     "text": [
      "1 is neither prime nor composite!\r\n"
     ]
    }
   ],
   "source": [
    "int n=1;\n",
    "boolean flag = false;\n",
    "if(n==1){\n",
    "System.out.println(\"1 is neither prime nor composite!\");\n",
    "}\n",
    "else if(n%2==0 && n==2){\n",
    "System.out.println(\"Not prime\");\n",
    "}\n",
    "else{\n",
    "    for(int i = 2; i <= Math.sqrt(n); i++) {\n",
    "        if (n % i == 0) {\n",
    "            System.out.println(n + \" is not a prime number\");\n",
    "            flag = true;\n",
    "            break;\n",
    "        }\n",
    "     }\n",
    "     if(!flag){\n",
    "         System.out.println(n+\" is prime\");\n",
    "     }\n",
    "}"
   ]
  },
  {
   "cell_type": "code",
   "execution_count": 76,
   "id": "1d374aed",
   "metadata": {},
   "outputs": [],
   "source": [
    "int[] rnos = new int[5];"
   ]
  },
  {
   "cell_type": "code",
   "execution_count": 80,
   "id": "d3be13cc",
   "metadata": {},
   "outputs": [
    {
     "name": "stdout",
     "output_type": "stream",
     "text": [
      "[I@6a6441c2\r\n"
     ]
    }
   ],
   "source": [
    "int[] rnos = new int[]{3,4,5,6};\n",
    "System.out.println(rnos);"
   ]
  },
  {
   "cell_type": "code",
   "execution_count": 1,
   "id": "9f2daf66",
   "metadata": {},
   "outputs": [
    {
     "name": "stdout",
     "output_type": "stream",
     "text": [
      "i = 1\n",
      "i = 2\n"
     ]
    }
   ],
   "source": [
    "for(int i = 1; i <= 5; i++) {\n",
    "    if(i == 3) {\n",
    "        break; // Exit the loop when i is 3\n",
    "    }\n",
    "    System.out.println(\"i = \" + i);\n",
    "}"
   ]
  }
 ],
 "metadata": {
  "kernelspec": {
   "display_name": "Java",
   "language": "java",
   "name": "java"
  },
  "language_info": {
   "codemirror_mode": "java",
   "file_extension": ".jshell",
   "mimetype": "text/x-java-source",
   "name": "Java",
   "pygments_lexer": "java",
   "version": "23+37-2369"
  }
 },
 "nbformat": 4,
 "nbformat_minor": 5
}
